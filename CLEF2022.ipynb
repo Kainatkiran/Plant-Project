{
  "nbformat": 4,
  "nbformat_minor": 0,
  "metadata": {
    "colab": {
      "provenance": [],
      "mount_file_id": "1HH9NKl1h64SP7eH03DBCzR4w6DfmAvlR",
      "authorship_tag": "ABX9TyPSgLT8INTJMDsHr4PS2DPk",
      "include_colab_link": true
    },
    "kernelspec": {
      "name": "python3",
      "display_name": "Python 3"
    },
    "language_info": {
      "name": "python"
    }
  },
  "cells": [
    {
      "cell_type": "markdown",
      "metadata": {
        "id": "view-in-github",
        "colab_type": "text"
      },
      "source": [
        "<a href=\"https://colab.research.google.com/github/Kainatkiran/Plant-Project/blob/main/CLEF2022.ipynb\" target=\"_parent\"><img src=\"https://colab.research.google.com/assets/colab-badge.svg\" alt=\"Open In Colab\"/></a>"
      ]
    },
    {
      "cell_type": "code",
      "execution_count": null,
      "metadata": {
        "id": "N8xnxFJwaZ1-",
        "colab": {
          "base_uri": "https://localhost:8080/"
        },
        "outputId": "41aea295-44f0-499c-e8ab-4584900d4616"
      },
      "outputs": [
        {
          "output_type": "stream",
          "name": "stdout",
          "text": [
            "      classid,image_name,image_path,species,genus,family,order,class,source,manual_tag,predicted_tag,predicted_tag_probability,original_url,license,publisher,gbif_occurrence_id,aggregator,dataset_key,image_backup_url,absolute_path\n",
            "0      9848396,0966faf193bf90fb66cbd220c5738eac5b4e59...                                                                                                                                                                              \n",
            "1      9717715,078ccd025ca2c5bb5bcdf0320f3f8a19235a32...                                                                                                                                                                              \n",
            "2      9717715,a0371fdc1c5b116e6e58252893abdf51aa1ad6...                                                                                                                                                                              \n",
            "3      9717715,5d1261c34a6ce7d2ab6873057c36bc4ac38932...                                                                                                                                                                              \n",
            "4      9717715,91501758f741a2d7e4439946044fb0ad80639f...                                                                                                                                                                              \n",
            "...                                                  ...                                                                                                                                                                              \n",
            "44226  9765658,3e17daea73ff1c7ef2c5989f13a70c1dcd977e...                                                                                                                                                                              \n",
            "44227  9765658,d964ab3dbdcbb6d228c03fa8af25b30f19ff57...                                                                                                                                                                              \n",
            "44228  9765658,fb6ebbc712d6ed8ab940d1a7bf0d31f450d231...                                                                                                                                                                              \n",
            "44229  9765658,e23f4f4ca37b4d8ea9da09db923815822ccbb4...                                                                                                                                                                              \n",
            "44230  9765658,0f34ed9d4707e7b8cd6997cb2993afe2536d66...                                                                                                                                                                              \n",
            "\n",
            "[44231 rows x 1 columns]\n"
          ]
        }
      ],
      "source": [
        "import pandas as pd\n",
        "\n",
        "# Assuming our CSV file is named 'PlantCLEF2022 train metadata.csv'\n",
        "csv_file_path = '/content/drive/MyDrive/CLEF2022/filtered_data.csv'\n",
        "\n",
        "# Read the CSV file\n",
        "csv_data = pd.read_csv(csv_file_path, delimiter=';', quoting=1)\n",
        "\n",
        "print(csv_data)"
      ]
    },
    {
      "cell_type": "code",
      "source": [
        "# Filter rows where 'id' is between 9000213 and 9998215\n",
        "filtered_data = csv_data[csv_data['classid'].between(9000213, 9998215)]\n",
        "print(filtered_data)"
      ],
      "metadata": {
        "colab": {
          "base_uri": "https://localhost:8080/",
          "height": 512
        },
        "id": "dUxPZSbfNZhW",
        "outputId": "ecaabe28-ef7a-446c-807c-23041d5c49e9"
      },
      "execution_count": null,
      "outputs": [
        {
          "output_type": "error",
          "ename": "KeyError",
          "evalue": "'classid'",
          "traceback": [
            "\u001b[0;31m---------------------------------------------------------------------------\u001b[0m",
            "\u001b[0;31mKeyError\u001b[0m                                  Traceback (most recent call last)",
            "\u001b[0;32m/usr/local/lib/python3.10/dist-packages/pandas/core/indexes/base.py\u001b[0m in \u001b[0;36mget_loc\u001b[0;34m(self, key, method, tolerance)\u001b[0m\n\u001b[1;32m   3801\u001b[0m             \u001b[0;32mtry\u001b[0m\u001b[0;34m:\u001b[0m\u001b[0;34m\u001b[0m\u001b[0;34m\u001b[0m\u001b[0m\n\u001b[0;32m-> 3802\u001b[0;31m                 \u001b[0;32mreturn\u001b[0m \u001b[0mself\u001b[0m\u001b[0;34m.\u001b[0m\u001b[0m_engine\u001b[0m\u001b[0;34m.\u001b[0m\u001b[0mget_loc\u001b[0m\u001b[0;34m(\u001b[0m\u001b[0mcasted_key\u001b[0m\u001b[0;34m)\u001b[0m\u001b[0;34m\u001b[0m\u001b[0;34m\u001b[0m\u001b[0m\n\u001b[0m\u001b[1;32m   3803\u001b[0m             \u001b[0;32mexcept\u001b[0m \u001b[0mKeyError\u001b[0m \u001b[0;32mas\u001b[0m \u001b[0merr\u001b[0m\u001b[0;34m:\u001b[0m\u001b[0;34m\u001b[0m\u001b[0;34m\u001b[0m\u001b[0m\n",
            "\u001b[0;32m/usr/local/lib/python3.10/dist-packages/pandas/_libs/index.pyx\u001b[0m in \u001b[0;36mpandas._libs.index.IndexEngine.get_loc\u001b[0;34m()\u001b[0m\n",
            "\u001b[0;32m/usr/local/lib/python3.10/dist-packages/pandas/_libs/index.pyx\u001b[0m in \u001b[0;36mpandas._libs.index.IndexEngine.get_loc\u001b[0;34m()\u001b[0m\n",
            "\u001b[0;32mpandas/_libs/hashtable_class_helper.pxi\u001b[0m in \u001b[0;36mpandas._libs.hashtable.PyObjectHashTable.get_item\u001b[0;34m()\u001b[0m\n",
            "\u001b[0;32mpandas/_libs/hashtable_class_helper.pxi\u001b[0m in \u001b[0;36mpandas._libs.hashtable.PyObjectHashTable.get_item\u001b[0;34m()\u001b[0m\n",
            "\u001b[0;31mKeyError\u001b[0m: 'classid'",
            "\nThe above exception was the direct cause of the following exception:\n",
            "\u001b[0;31mKeyError\u001b[0m                                  Traceback (most recent call last)",
            "\u001b[0;32m<ipython-input-9-a74b135206a9>\u001b[0m in \u001b[0;36m<cell line: 2>\u001b[0;34m()\u001b[0m\n\u001b[1;32m      1\u001b[0m \u001b[0;31m# Filter rows where 'id' is between 9000213 and 9998215\u001b[0m\u001b[0;34m\u001b[0m\u001b[0;34m\u001b[0m\u001b[0m\n\u001b[0;32m----> 2\u001b[0;31m \u001b[0mfiltered_data\u001b[0m \u001b[0;34m=\u001b[0m \u001b[0mcsv_data\u001b[0m\u001b[0;34m[\u001b[0m\u001b[0mcsv_data\u001b[0m\u001b[0;34m[\u001b[0m\u001b[0;34m'classid'\u001b[0m\u001b[0;34m]\u001b[0m\u001b[0;34m.\u001b[0m\u001b[0mbetween\u001b[0m\u001b[0;34m(\u001b[0m\u001b[0;36m9000213\u001b[0m\u001b[0;34m,\u001b[0m \u001b[0;36m9998215\u001b[0m\u001b[0;34m)\u001b[0m\u001b[0;34m]\u001b[0m\u001b[0;34m\u001b[0m\u001b[0;34m\u001b[0m\u001b[0m\n\u001b[0m\u001b[1;32m      3\u001b[0m \u001b[0mprint\u001b[0m\u001b[0;34m(\u001b[0m\u001b[0mfiltered_data\u001b[0m\u001b[0;34m)\u001b[0m\u001b[0;34m\u001b[0m\u001b[0;34m\u001b[0m\u001b[0m\n",
            "\u001b[0;32m/usr/local/lib/python3.10/dist-packages/pandas/core/frame.py\u001b[0m in \u001b[0;36m__getitem__\u001b[0;34m(self, key)\u001b[0m\n\u001b[1;32m   3805\u001b[0m             \u001b[0;32mif\u001b[0m \u001b[0mself\u001b[0m\u001b[0;34m.\u001b[0m\u001b[0mcolumns\u001b[0m\u001b[0;34m.\u001b[0m\u001b[0mnlevels\u001b[0m \u001b[0;34m>\u001b[0m \u001b[0;36m1\u001b[0m\u001b[0;34m:\u001b[0m\u001b[0;34m\u001b[0m\u001b[0;34m\u001b[0m\u001b[0m\n\u001b[1;32m   3806\u001b[0m                 \u001b[0;32mreturn\u001b[0m \u001b[0mself\u001b[0m\u001b[0;34m.\u001b[0m\u001b[0m_getitem_multilevel\u001b[0m\u001b[0;34m(\u001b[0m\u001b[0mkey\u001b[0m\u001b[0;34m)\u001b[0m\u001b[0;34m\u001b[0m\u001b[0;34m\u001b[0m\u001b[0m\n\u001b[0;32m-> 3807\u001b[0;31m             \u001b[0mindexer\u001b[0m \u001b[0;34m=\u001b[0m \u001b[0mself\u001b[0m\u001b[0;34m.\u001b[0m\u001b[0mcolumns\u001b[0m\u001b[0;34m.\u001b[0m\u001b[0mget_loc\u001b[0m\u001b[0;34m(\u001b[0m\u001b[0mkey\u001b[0m\u001b[0;34m)\u001b[0m\u001b[0;34m\u001b[0m\u001b[0;34m\u001b[0m\u001b[0m\n\u001b[0m\u001b[1;32m   3808\u001b[0m             \u001b[0;32mif\u001b[0m \u001b[0mis_integer\u001b[0m\u001b[0;34m(\u001b[0m\u001b[0mindexer\u001b[0m\u001b[0;34m)\u001b[0m\u001b[0;34m:\u001b[0m\u001b[0;34m\u001b[0m\u001b[0;34m\u001b[0m\u001b[0m\n\u001b[1;32m   3809\u001b[0m                 \u001b[0mindexer\u001b[0m \u001b[0;34m=\u001b[0m \u001b[0;34m[\u001b[0m\u001b[0mindexer\u001b[0m\u001b[0;34m]\u001b[0m\u001b[0;34m\u001b[0m\u001b[0;34m\u001b[0m\u001b[0m\n",
            "\u001b[0;32m/usr/local/lib/python3.10/dist-packages/pandas/core/indexes/base.py\u001b[0m in \u001b[0;36mget_loc\u001b[0;34m(self, key, method, tolerance)\u001b[0m\n\u001b[1;32m   3802\u001b[0m                 \u001b[0;32mreturn\u001b[0m \u001b[0mself\u001b[0m\u001b[0;34m.\u001b[0m\u001b[0m_engine\u001b[0m\u001b[0;34m.\u001b[0m\u001b[0mget_loc\u001b[0m\u001b[0;34m(\u001b[0m\u001b[0mcasted_key\u001b[0m\u001b[0;34m)\u001b[0m\u001b[0;34m\u001b[0m\u001b[0;34m\u001b[0m\u001b[0m\n\u001b[1;32m   3803\u001b[0m             \u001b[0;32mexcept\u001b[0m \u001b[0mKeyError\u001b[0m \u001b[0;32mas\u001b[0m \u001b[0merr\u001b[0m\u001b[0;34m:\u001b[0m\u001b[0;34m\u001b[0m\u001b[0;34m\u001b[0m\u001b[0m\n\u001b[0;32m-> 3804\u001b[0;31m                 \u001b[0;32mraise\u001b[0m \u001b[0mKeyError\u001b[0m\u001b[0;34m(\u001b[0m\u001b[0mkey\u001b[0m\u001b[0;34m)\u001b[0m \u001b[0;32mfrom\u001b[0m \u001b[0merr\u001b[0m\u001b[0;34m\u001b[0m\u001b[0;34m\u001b[0m\u001b[0m\n\u001b[0m\u001b[1;32m   3805\u001b[0m             \u001b[0;32mexcept\u001b[0m \u001b[0mTypeError\u001b[0m\u001b[0;34m:\u001b[0m\u001b[0;34m\u001b[0m\u001b[0;34m\u001b[0m\u001b[0m\n\u001b[1;32m   3806\u001b[0m                 \u001b[0;31m# If we have a listlike key, _check_indexing_error will raise\u001b[0m\u001b[0;34m\u001b[0m\u001b[0;34m\u001b[0m\u001b[0m\n",
            "\u001b[0;31mKeyError\u001b[0m: 'classid'"
          ]
        }
      ]
    },
    {
      "cell_type": "code",
      "source": [
        "import tensorflow as tf\n",
        "from tensorflow.keras import layers, models\n",
        "from sklearn.model_selection import train_test_split\n",
        "import pandas as pd\n",
        "from sklearn.preprocessing import LabelEncoder\n",
        "from tensorflow.keras.preprocessing.image import ImageDataGenerator\n",
        "from tensorflow.keras.callbacks import ModelCheckpoint"
      ],
      "metadata": {
        "id": "O0_j2phiFnpx"
      },
      "execution_count": null,
      "outputs": []
    },
    {
      "cell_type": "code",
      "source": [
        "print(filtered_data.columns)\n"
      ],
      "metadata": {
        "colab": {
          "base_uri": "https://localhost:8080/"
        },
        "id": "ousDcYFHaRja",
        "outputId": "da1a780c-6d7e-415a-b22e-be5762fd94eb"
      },
      "execution_count": null,
      "outputs": [
        {
          "output_type": "stream",
          "name": "stdout",
          "text": [
            "Index(['classid', 'image_name', 'image_path', 'species', 'genus', 'family',\n",
            "       'order', 'class', 'source', 'manual_tag', 'predicted_tag',\n",
            "       'predicted_tag_probability', 'original_url', 'license', 'publisher',\n",
            "       'gbif_occurrence_id', 'aggregator', 'dataset_key', 'image_backup_url',\n",
            "       'absolute_path'],\n",
            "      dtype='object')\n"
          ]
        }
      ]
    },
    {
      "cell_type": "code",
      "source": [
        "#print(filtered_data.head())\n"
      ],
      "metadata": {
        "id": "RGCpwbBVaW3c"
      },
      "execution_count": null,
      "outputs": []
    },
    {
      "cell_type": "code",
      "source": [
        "# Convert column names to lowercase for case-insensitive check\n",
        "columns_lower = [col.lower() for col in filtered_data.columns]\n",
        "\n",
        "# Check if 'classid' is present in lowercase\n",
        "if 'classid' in columns_lower:\n",
        "    print(\"Column 'classid' found!\")\n",
        "else:\n",
        "    print(\"Column 'classid' not found. Columns:\", filtered_data.columns)\n"
      ],
      "metadata": {
        "colab": {
          "base_uri": "https://localhost:8080/"
        },
        "id": "VOVNL2PDbkmD",
        "outputId": "d12d3417-112d-4638-cab9-eb456281a7cb"
      },
      "execution_count": null,
      "outputs": [
        {
          "output_type": "stream",
          "name": "stdout",
          "text": [
            "Column 'classid' found!\n"
          ]
        }
      ]
    },
    {
      "cell_type": "code",
      "source": [
        "# Assuming 'filtered_data' is your filtered DataFrame\n",
        "filtered_data.to_csv('filtered_data.csv', index=False)\n"
      ],
      "metadata": {
        "id": "46oLBNj-vnSI"
      },
      "execution_count": null,
      "outputs": []
    },
    {
      "cell_type": "code",
      "source": [
        "!ls filtered_data.csv"
      ],
      "metadata": {
        "colab": {
          "base_uri": "https://localhost:8080/"
        },
        "id": "_QYsFJiqwCFN",
        "outputId": "3f9cde5d-eeb4-4449-95d0-1dd94a5a4071"
      },
      "execution_count": null,
      "outputs": [
        {
          "output_type": "stream",
          "name": "stdout",
          "text": [
            "filtered_data.csv\n"
          ]
        }
      ]
    },
    {
      "cell_type": "code",
      "source": [
        "import os\n",
        "\n",
        "# Get the current working directory\n",
        "current_directory = os.getcwd()\n",
        "\n",
        "# List files in the current directory\n",
        "files_in_directory = os.listdir(current_directory)\n",
        "\n",
        "# Filter CSV files\n",
        "csv_files = [file for file in files_in_directory if file.endswith('.csv')]\n",
        "\n",
        "# Display the current directory and list of CSV files\n",
        "print(\"Current Working Directory:\", current_directory)\n",
        "print(\"List of CSV Files:\", csv_files)\n"
      ],
      "metadata": {
        "colab": {
          "base_uri": "https://localhost:8080/"
        },
        "id": "mEEASg_TxgRV",
        "outputId": "942de431-5be1-482b-d01b-d3c60261d7dc"
      },
      "execution_count": null,
      "outputs": [
        {
          "output_type": "stream",
          "name": "stdout",
          "text": [
            "Current Working Directory: /content\n",
            "List of CSV Files: ['filtered_data.csv']\n"
          ]
        }
      ]
    },
    {
      "cell_type": "code",
      "source": [
        "# Assuming your DataFrame is named 'df'\n",
        "num_rows = filtered_data.shape[0]\n",
        "\n",
        "print(\"Number of rows in the DataFrame:\", num_rows)"
      ],
      "metadata": {
        "colab": {
          "base_uri": "https://localhost:8080/"
        },
        "id": "XyrODYNGFcR8",
        "outputId": "87ea5a8b-2c37-44e7-d711-e2b71008d1b5"
      },
      "execution_count": null,
      "outputs": [
        {
          "output_type": "stream",
          "name": "stdout",
          "text": [
            "Number of rows in the DataFrame: 44231\n"
          ]
        }
      ]
    },
    {
      "cell_type": "code",
      "source": [
        "from google.colab import drive\n",
        "drive.mount('/content/drive')"
      ],
      "metadata": {
        "id": "x4tZMV6iahzG",
        "colab": {
          "base_uri": "https://localhost:8080/"
        },
        "outputId": "a2dceeeb-f886-4d84-aed9-5e60181085c0"
      },
      "execution_count": null,
      "outputs": [
        {
          "output_type": "stream",
          "name": "stdout",
          "text": [
            "Drive already mounted at /content/drive; to attempt to forcibly remount, call drive.mount(\"/content/drive\", force_remount=True).\n"
          ]
        }
      ]
    },
    {
      "cell_type": "code",
      "source": [
        "!cp -r \"/content/drive/MyDrive/CLEF2022\" \"/content/\""
      ],
      "metadata": {
        "id": "aDDyVtqMdtVu"
      },
      "execution_count": null,
      "outputs": []
    },
    {
      "cell_type": "code",
      "source": [
        "!ls \"/content/drive/MyDrive/CLEF2022/\"\n"
      ],
      "metadata": {
        "colab": {
          "base_uri": "https://localhost:8080/"
        },
        "id": "08CuQeEUa70l",
        "outputId": "9a114767-dcad-4fa5-b807-ecc30ab5f29a"
      },
      "execution_count": null,
      "outputs": [
        {
          "output_type": "stream",
          "name": "stdout",
          "text": [
            " model\t      'PlantCLEF2022 train 1'\t\t  PlantCLEF2022_trusted_training_images_9\n",
            " model.keras  'PlantCLEF2022 training_metadata'\n"
          ]
        }
      ]
    },
    {
      "cell_type": "code",
      "source": [
        "!ls \"/content/drive/MyDrive/CLEF2022/PlantCLEF2022 training_metadata\""
      ],
      "metadata": {
        "colab": {
          "base_uri": "https://localhost:8080/"
        },
        "id": "q7sfcX1bbKhU",
        "outputId": "a94066e1-55b9-4968-a81f-582d7196f2e1"
      },
      "execution_count": null,
      "outputs": [
        {
          "output_type": "stream",
          "name": "stdout",
          "text": [
            "'PlantCLEF2022 train metadata.csv'\n"
          ]
        }
      ]
    },
    {
      "cell_type": "code",
      "source": [
        "#!ls \"/content/drive/MyDrive/CLEF2022/PlantCLEF2022 train 1/images\""
      ],
      "metadata": {
        "id": "A4EVop81rH_7"
      },
      "execution_count": null,
      "outputs": []
    },
    {
      "cell_type": "code",
      "source": [
        "#!ls \"/content/drive/MyDrive/CLEF2022/PlantCLEF2022_trusted_training_images_9/images\""
      ],
      "metadata": {
        "id": "0v45REJiqlWL"
      },
      "execution_count": null,
      "outputs": []
    },
    {
      "cell_type": "code",
      "source": [
        "base_dir = '/content/drive/MyDrive/CLEF2022/'\n",
        "#train_data_dir = base_dir + 'PlantCLEF2022 train 1/images'\n",
        "train_data = base_dir + 'PlantCLEF2022_trusted_training_images_9/images'\n"
      ],
      "metadata": {
        "id": "8bqpr22ycKPc"
      },
      "execution_count": null,
      "outputs": []
    },
    {
      "cell_type": "code",
      "source": [
        "# Load metadata CSV\n",
        "metadata_path = '/content/drive/MyDrive/CLEF2022/filtered_data.csv'\n",
        "metadata = pd.read_csv(metadata_path)\n"
      ],
      "metadata": {
        "id": "MqdX9BF916V4"
      },
      "execution_count": null,
      "outputs": []
    },
    {
      "cell_type": "code",
      "source": [
        "import pandas as pd\n",
        "print(filtered_data['classid'].dtype)\n",
        "# or\n",
        "print(type(filtered_data['classid'][0]))\n"
      ],
      "metadata": {
        "colab": {
          "base_uri": "https://localhost:8080/"
        },
        "id": "cQ1acRpj3Mc2",
        "outputId": "98c3547b-1053-44ca-bfa5-a6b4fa8cac8a"
      },
      "execution_count": null,
      "outputs": [
        {
          "output_type": "stream",
          "name": "stdout",
          "text": [
            "int64\n",
            "<class 'numpy.int64'>\n"
          ]
        }
      ]
    },
    {
      "cell_type": "code",
      "source": [
        "print(filtered_data['classid'].isnull().sum())\n"
      ],
      "metadata": {
        "colab": {
          "base_uri": "https://localhost:8080/"
        },
        "id": "oxJQz4-134nm",
        "outputId": "5de5adaa-85f7-4d03-9ba8-61a43ee0fb41"
      },
      "execution_count": null,
      "outputs": [
        {
          "output_type": "stream",
          "name": "stdout",
          "text": [
            "0\n"
          ]
        }
      ]
    },
    {
      "cell_type": "code",
      "source": [
        "print(filtered_data['classid'].head())\n"
      ],
      "metadata": {
        "colab": {
          "base_uri": "https://localhost:8080/"
        },
        "id": "yolfuTuh4AyG",
        "outputId": "a358b299-4543-4d60-e1dc-02555800d924"
      },
      "execution_count": null,
      "outputs": [
        {
          "output_type": "stream",
          "name": "stdout",
          "text": [
            "0    9848396\n",
            "1    9717715\n",
            "2    9717715\n",
            "3    9717715\n",
            "4    9717715\n",
            "Name: classid, dtype: object\n"
          ]
        }
      ]
    },
    {
      "cell_type": "code",
      "source": [
        "print(filtered_data['absolute_path'].head())\n",
        "\n"
      ],
      "metadata": {
        "colab": {
          "base_uri": "https://localhost:8080/"
        },
        "id": "wJCKjI9q9V2_",
        "outputId": "40260e95-29e3-437c-8231-941f21da2786"
      },
      "execution_count": null,
      "outputs": [
        {
          "output_type": "stream",
          "name": "stdout",
          "text": [
            "0    /content/drive/MyDrive/CLEF2022/PlantCLEF2022_...\n",
            "1    /content/drive/MyDrive/CLEF2022/PlantCLEF2022_...\n",
            "2    /content/drive/MyDrive/CLEF2022/PlantCLEF2022_...\n",
            "3    /content/drive/MyDrive/CLEF2022/PlantCLEF2022_...\n",
            "4    /content/drive/MyDrive/CLEF2022/PlantCLEF2022_...\n",
            "Name: absolute_path, dtype: object\n"
          ]
        }
      ]
    },
    {
      "cell_type": "code",
      "source": [
        "print(filtered_data['classid'].unique())\n"
      ],
      "metadata": {
        "colab": {
          "base_uri": "https://localhost:8080/"
        },
        "id": "qhav2w0x94-7",
        "outputId": "50f82632-33ac-4373-8eef-35b8fe457f1d"
      },
      "execution_count": null,
      "outputs": [
        {
          "output_type": "stream",
          "name": "stdout",
          "text": [
            "['9848396' '9717715' '9687598' ... '9814943' '9021300' '9765658']\n"
          ]
        }
      ]
    },
    {
      "cell_type": "code",
      "source": [
        "print(filtered_data['classid'].dtype)\n",
        "\n",
        "print(filtered_data['classid'].value_counts())\n"
      ],
      "metadata": {
        "colab": {
          "base_uri": "https://localhost:8080/"
        },
        "id": "vOOd80Eu-Fjm",
        "outputId": "236cabc9-0f28-4e56-da77-7fbc6489978b"
      },
      "execution_count": null,
      "outputs": [
        {
          "output_type": "stream",
          "name": "stdout",
          "text": [
            "object\n",
            "9324963    105\n",
            "9423778    105\n",
            "9509071    105\n",
            "9047268    104\n",
            "9060332    104\n",
            "          ... \n",
            "9561295      1\n",
            "9668211      1\n",
            "9285062      1\n",
            "9077527      1\n",
            "9848396      1\n",
            "Name: classid, Length: 1397, dtype: int64\n"
          ]
        }
      ]
    },
    {
      "cell_type": "code",
      "source": [
        "from sklearn.preprocessing import LabelEncoder\n",
        "from sklearn.model_selection import train_test_split\n",
        "# Load filtered data\n",
        "filtered_data = pd.read_csv('/content/drive/MyDrive/CLEF2022/filtered_data.csv')\n",
        "# Assuming 'class' column contains labels\n",
        "labels = filtered_data['classid']\n",
        "\n",
        "# Encode labels\n",
        "label_encoder = LabelEncoder()\n",
        "labels = label_encoder.fit_transform(labels)\n",
        "\n",
        "# Split data into training and testing sets\n",
        "train_data, test_data, train_labels, test_labels = train_test_split(\n",
        "    filtered_data['image_path'], labels, test_size=0.2, random_state=42\n",
        ")"
      ],
      "metadata": {
        "id": "0ZP9rl3xTy_u"
      },
      "execution_count": null,
      "outputs": []
    },
    {
      "cell_type": "code",
      "source": [
        "filtered_data['classid'] = filtered_data['classid'].astype(str)\n"
      ],
      "metadata": {
        "id": "vXU29SFU5uB-"
      },
      "execution_count": null,
      "outputs": []
    },
    {
      "cell_type": "code",
      "source": [
        "print(filtered_data['image_path'].head())\n"
      ],
      "metadata": {
        "colab": {
          "base_uri": "https://localhost:8080/"
        },
        "id": "7vMetvlJVvtZ",
        "outputId": "0e316a39-8a91-4484-9fe9-1a0b7011edb4"
      },
      "execution_count": null,
      "outputs": [
        {
          "output_type": "stream",
          "name": "stdout",
          "text": [
            "0    9848396/0966faf193bf90fb66cbd220c5738eac5b4e59...\n",
            "1    9717715/078ccd025ca2c5bb5bcdf0320f3f8a19235a32...\n",
            "2    9717715/a0371fdc1c5b116e6e58252893abdf51aa1ad6...\n",
            "3    9717715/5d1261c34a6ce7d2ab6873057c36bc4ac38932...\n",
            "4    9717715/91501758f741a2d7e4439946044fb0ad80639f...\n",
            "Name: image_path, dtype: object\n"
          ]
        }
      ]
    },
    {
      "cell_type": "code",
      "source": [
        "import os\n",
        "import pandas as pd\n",
        "from tensorflow.keras.preprocessing.image import ImageDataGenerator\n",
        "from tensorflow.keras.layers import Conv2D, MaxPooling2D, Flatten, Dense\n",
        "from tensorflow.keras.models import Sequential\n",
        "\n",
        "# Load CSV data\n",
        "data = pd.read_csv(\"/content/drive/MyDrive/CLEF2022/filtered_data.csv\")\n",
        "\n",
        "# Path to the main image folder\n",
        "main_folder_path = \"/content/drive/MyDrive/CLEF2022/PlantCLEF2022_trusted_training_images_9\"\n",
        "\n",
        "# Create image generators for training and validation sets\n",
        "train_datagen = ImageDataGenerator(rescale=1./255)  # Add data augmentation if needed\n",
        "val_datagen = ImageDataGenerator(rescale=1./255)\n",
        "\n",
        "# Iterate over subfolders and create generators for each class\n",
        "for subfolder in os.listdir(main_folder_path):\n",
        "  subfolder_path = os.path.join(main_folder_path, subfolder)\n",
        "\n",
        "  # Only create generators for folders containing image files\n",
        "  if os.path.isdir(subfolder_path) and any(file.endswith(('.jpg', '.jpeg', '.png')) for file in os.listdir(subfolder_path)):\n",
        "    class_name = subfolder  # Assuming subfolder names represent class labels\n",
        "\n",
        "    # Filter CSV data for the current class\n",
        "    class_data = data[data['label'] == class_name]\n",
        "      # Create image generators for the class\n",
        "    train_generator = train_datagen.flow_from_dataframe(\n",
        "      dataframe=class_data,\n",
        "      directory=main_folder_path,\n",
        "      x_col=\"image_path\",\n",
        "      y_col=\"label\",\n",
        "      target_size=(256, 256),  # Replace with your desired image size\n",
        "      batch_size=32,\n",
        "      class_mode=\"categorical\",\n",
        "      subset=\"training\"\n",
        "    )\n",
        "\n",
        "    val_generator = val_datagen.flow_from_dataframe(\n",
        "      dataframe=class_data,\n",
        "      directory=main_folder_path,\n",
        "      x_col=\"label\",\n",
        "      y_col=\"image_path\",\n",
        "      target_size=(256, 256),\n",
        "      batch_size=32,\n",
        "      class_mode=\"categorical\",\n",
        "      subset=\"validation\"\n",
        "    )\n",
        "     # Define the CNN architecture\n",
        "    model = Sequential([\n",
        "      Conv2D(32, (3, 3), activation='relu', input_shape=(256, 256, 3)),\n",
        "      MaxPooling2D((2, 2)),\n",
        "      # ... Add more convolutional layers as needed\n",
        "      Flatten(),\n",
        "      Dense(128, activation='relu'),\n",
        "      Dense(3, activation='softmax')  # Replace num_classes with the actual number of classes\n",
        "    ])\n",
        "\n",
        "    # Compile the model\n",
        "    model.compile(optimizer='adam', loss='categorical_crossentropy', metrics=['accuracy'])\n",
        "     # Train the model\n",
        "    model.fit(\n",
        "      train_generator,\n",
        "      steps_per_epoch=len(train_generator),\n",
        "      epochs=10,\n",
        "      validation_data=val_generator,\n",
        "      validation_steps=len(val_generator)\n",
        "    )\n",
        "\n"
      ],
      "metadata": {
        "id": "QoD7vpl3boze"
      },
      "execution_count": null,
      "outputs": []
    },
    {
      "cell_type": "code",
      "source": [
        "from PIL import Image\n",
        "\n",
        "from PIL import Image\n",
        "import os\n",
        "\n",
        "img_path = filtered_data['image_path'].iloc[0]\n",
        "full_path = os.path.join(dataset_path, img_path)\n",
        "print(\"Full Image Path:\", full_path)\n",
        "\n",
        "# Verify file existence\n",
        "if os.path.isfile(full_path):\n",
        "    img = Image.open(full_path)\n",
        "    img.show()\n",
        "else:\n",
        "    print(f\"File not found: {full_path}\")\n",
        "\n"
      ],
      "metadata": {
        "colab": {
          "base_uri": "https://localhost:8080/"
        },
        "id": "VhMhaEyAWQnd",
        "outputId": "9facd94c-58f8-4672-e4c2-ef740270ada8"
      },
      "execution_count": null,
      "outputs": [
        {
          "output_type": "stream",
          "name": "stdout",
          "text": [
            "Full Image Path: /content/drive/MyDrive/CLEF2022/PlantCLEF2022_trusted_training_images_9/9848396/0966faf193bf90fb66cbd220c5738eac5b4e5961.jpg\n",
            "File not found: /content/drive/MyDrive/CLEF2022/PlantCLEF2022_trusted_training_images_9/9848396/0966faf193bf90fb66cbd220c5738eac5b4e5961.jpg\n"
          ]
        }
      ]
    },
    {
      "cell_type": "code",
      "source": [
        "# Print first few rows with full image paths\n",
        "print(filtered_data[['image_path', 'full_image_path']].head())\n"
      ],
      "metadata": {
        "colab": {
          "base_uri": "https://localhost:8080/",
          "height": 339
        },
        "id": "y8E_2QnUjyOg",
        "outputId": "b6d1cae2-c36e-426a-a67a-696180d13b4e"
      },
      "execution_count": null,
      "outputs": [
        {
          "output_type": "error",
          "ename": "KeyError",
          "evalue": "\"['full_image_path'] not in index\"",
          "traceback": [
            "\u001b[0;31m---------------------------------------------------------------------------\u001b[0m",
            "\u001b[0;31mKeyError\u001b[0m                                  Traceback (most recent call last)",
            "\u001b[0;32m<ipython-input-55-a3b16efaeb80>\u001b[0m in \u001b[0;36m<cell line: 2>\u001b[0;34m()\u001b[0m\n\u001b[1;32m      1\u001b[0m \u001b[0;31m# Print first few rows with full image paths\u001b[0m\u001b[0;34m\u001b[0m\u001b[0;34m\u001b[0m\u001b[0m\n\u001b[0;32m----> 2\u001b[0;31m \u001b[0mprint\u001b[0m\u001b[0;34m(\u001b[0m\u001b[0mfiltered_data\u001b[0m\u001b[0;34m[\u001b[0m\u001b[0;34m[\u001b[0m\u001b[0;34m'image_path'\u001b[0m\u001b[0;34m,\u001b[0m \u001b[0;34m'full_image_path'\u001b[0m\u001b[0;34m]\u001b[0m\u001b[0;34m]\u001b[0m\u001b[0;34m.\u001b[0m\u001b[0mhead\u001b[0m\u001b[0;34m(\u001b[0m\u001b[0;34m)\u001b[0m\u001b[0;34m)\u001b[0m\u001b[0;34m\u001b[0m\u001b[0;34m\u001b[0m\u001b[0m\n\u001b[0m",
            "\u001b[0;32m/usr/local/lib/python3.10/dist-packages/pandas/core/frame.py\u001b[0m in \u001b[0;36m__getitem__\u001b[0;34m(self, key)\u001b[0m\n\u001b[1;32m   3811\u001b[0m             \u001b[0;32mif\u001b[0m \u001b[0mis_iterator\u001b[0m\u001b[0;34m(\u001b[0m\u001b[0mkey\u001b[0m\u001b[0;34m)\u001b[0m\u001b[0;34m:\u001b[0m\u001b[0;34m\u001b[0m\u001b[0;34m\u001b[0m\u001b[0m\n\u001b[1;32m   3812\u001b[0m                 \u001b[0mkey\u001b[0m \u001b[0;34m=\u001b[0m \u001b[0mlist\u001b[0m\u001b[0;34m(\u001b[0m\u001b[0mkey\u001b[0m\u001b[0;34m)\u001b[0m\u001b[0;34m\u001b[0m\u001b[0;34m\u001b[0m\u001b[0m\n\u001b[0;32m-> 3813\u001b[0;31m             \u001b[0mindexer\u001b[0m \u001b[0;34m=\u001b[0m \u001b[0mself\u001b[0m\u001b[0;34m.\u001b[0m\u001b[0mcolumns\u001b[0m\u001b[0;34m.\u001b[0m\u001b[0m_get_indexer_strict\u001b[0m\u001b[0;34m(\u001b[0m\u001b[0mkey\u001b[0m\u001b[0;34m,\u001b[0m \u001b[0;34m\"columns\"\u001b[0m\u001b[0;34m)\u001b[0m\u001b[0;34m[\u001b[0m\u001b[0;36m1\u001b[0m\u001b[0;34m]\u001b[0m\u001b[0;34m\u001b[0m\u001b[0;34m\u001b[0m\u001b[0m\n\u001b[0m\u001b[1;32m   3814\u001b[0m \u001b[0;34m\u001b[0m\u001b[0m\n\u001b[1;32m   3815\u001b[0m         \u001b[0;31m# take() does not accept boolean indexers\u001b[0m\u001b[0;34m\u001b[0m\u001b[0;34m\u001b[0m\u001b[0m\n",
            "\u001b[0;32m/usr/local/lib/python3.10/dist-packages/pandas/core/indexes/base.py\u001b[0m in \u001b[0;36m_get_indexer_strict\u001b[0;34m(self, key, axis_name)\u001b[0m\n\u001b[1;32m   6068\u001b[0m             \u001b[0mkeyarr\u001b[0m\u001b[0;34m,\u001b[0m \u001b[0mindexer\u001b[0m\u001b[0;34m,\u001b[0m \u001b[0mnew_indexer\u001b[0m \u001b[0;34m=\u001b[0m \u001b[0mself\u001b[0m\u001b[0;34m.\u001b[0m\u001b[0m_reindex_non_unique\u001b[0m\u001b[0;34m(\u001b[0m\u001b[0mkeyarr\u001b[0m\u001b[0;34m)\u001b[0m\u001b[0;34m\u001b[0m\u001b[0;34m\u001b[0m\u001b[0m\n\u001b[1;32m   6069\u001b[0m \u001b[0;34m\u001b[0m\u001b[0m\n\u001b[0;32m-> 6070\u001b[0;31m         \u001b[0mself\u001b[0m\u001b[0;34m.\u001b[0m\u001b[0m_raise_if_missing\u001b[0m\u001b[0;34m(\u001b[0m\u001b[0mkeyarr\u001b[0m\u001b[0;34m,\u001b[0m \u001b[0mindexer\u001b[0m\u001b[0;34m,\u001b[0m \u001b[0maxis_name\u001b[0m\u001b[0;34m)\u001b[0m\u001b[0;34m\u001b[0m\u001b[0;34m\u001b[0m\u001b[0m\n\u001b[0m\u001b[1;32m   6071\u001b[0m \u001b[0;34m\u001b[0m\u001b[0m\n\u001b[1;32m   6072\u001b[0m         \u001b[0mkeyarr\u001b[0m \u001b[0;34m=\u001b[0m \u001b[0mself\u001b[0m\u001b[0;34m.\u001b[0m\u001b[0mtake\u001b[0m\u001b[0;34m(\u001b[0m\u001b[0mindexer\u001b[0m\u001b[0;34m)\u001b[0m\u001b[0;34m\u001b[0m\u001b[0;34m\u001b[0m\u001b[0m\n",
            "\u001b[0;32m/usr/local/lib/python3.10/dist-packages/pandas/core/indexes/base.py\u001b[0m in \u001b[0;36m_raise_if_missing\u001b[0;34m(self, key, indexer, axis_name)\u001b[0m\n\u001b[1;32m   6131\u001b[0m \u001b[0;34m\u001b[0m\u001b[0m\n\u001b[1;32m   6132\u001b[0m             \u001b[0mnot_found\u001b[0m \u001b[0;34m=\u001b[0m \u001b[0mlist\u001b[0m\u001b[0;34m(\u001b[0m\u001b[0mensure_index\u001b[0m\u001b[0;34m(\u001b[0m\u001b[0mkey\u001b[0m\u001b[0;34m)\u001b[0m\u001b[0;34m[\u001b[0m\u001b[0mmissing_mask\u001b[0m\u001b[0;34m.\u001b[0m\u001b[0mnonzero\u001b[0m\u001b[0;34m(\u001b[0m\u001b[0;34m)\u001b[0m\u001b[0;34m[\u001b[0m\u001b[0;36m0\u001b[0m\u001b[0;34m]\u001b[0m\u001b[0;34m]\u001b[0m\u001b[0;34m.\u001b[0m\u001b[0munique\u001b[0m\u001b[0;34m(\u001b[0m\u001b[0;34m)\u001b[0m\u001b[0;34m)\u001b[0m\u001b[0;34m\u001b[0m\u001b[0;34m\u001b[0m\u001b[0m\n\u001b[0;32m-> 6133\u001b[0;31m             \u001b[0;32mraise\u001b[0m \u001b[0mKeyError\u001b[0m\u001b[0;34m(\u001b[0m\u001b[0;34mf\"{not_found} not in index\"\u001b[0m\u001b[0;34m)\u001b[0m\u001b[0;34m\u001b[0m\u001b[0;34m\u001b[0m\u001b[0m\n\u001b[0m\u001b[1;32m   6134\u001b[0m \u001b[0;34m\u001b[0m\u001b[0m\n\u001b[1;32m   6135\u001b[0m     \u001b[0;34m@\u001b[0m\u001b[0moverload\u001b[0m\u001b[0;34m\u001b[0m\u001b[0;34m\u001b[0m\u001b[0m\n",
            "\u001b[0;31mKeyError\u001b[0m: \"['full_image_path'] not in index\""
          ]
        }
      ]
    },
    {
      "cell_type": "code",
      "source": [
        "import os\n",
        "\n",
        "# Check existence of a few files\n",
        "example_paths = filtered_data['full_image_path'].head().tolist()\n",
        "for path in example_paths:\n",
        "    print(f\"File exists at path {path}: {os.path.exists(path)}\")\n"
      ],
      "metadata": {
        "colab": {
          "base_uri": "https://localhost:8080/",
          "height": 512
        },
        "id": "MFzUGGuLj41b",
        "outputId": "592968f2-d204-4d38-b4b3-fc866e44fc11"
      },
      "execution_count": null,
      "outputs": [
        {
          "output_type": "error",
          "ename": "KeyError",
          "evalue": "'full_image_path'",
          "traceback": [
            "\u001b[0;31m---------------------------------------------------------------------------\u001b[0m",
            "\u001b[0;31mKeyError\u001b[0m                                  Traceback (most recent call last)",
            "\u001b[0;32m/usr/local/lib/python3.10/dist-packages/pandas/core/indexes/base.py\u001b[0m in \u001b[0;36mget_loc\u001b[0;34m(self, key, method, tolerance)\u001b[0m\n\u001b[1;32m   3801\u001b[0m             \u001b[0;32mtry\u001b[0m\u001b[0;34m:\u001b[0m\u001b[0;34m\u001b[0m\u001b[0;34m\u001b[0m\u001b[0m\n\u001b[0;32m-> 3802\u001b[0;31m                 \u001b[0;32mreturn\u001b[0m \u001b[0mself\u001b[0m\u001b[0;34m.\u001b[0m\u001b[0m_engine\u001b[0m\u001b[0;34m.\u001b[0m\u001b[0mget_loc\u001b[0m\u001b[0;34m(\u001b[0m\u001b[0mcasted_key\u001b[0m\u001b[0;34m)\u001b[0m\u001b[0;34m\u001b[0m\u001b[0;34m\u001b[0m\u001b[0m\n\u001b[0m\u001b[1;32m   3803\u001b[0m             \u001b[0;32mexcept\u001b[0m \u001b[0mKeyError\u001b[0m \u001b[0;32mas\u001b[0m \u001b[0merr\u001b[0m\u001b[0;34m:\u001b[0m\u001b[0;34m\u001b[0m\u001b[0;34m\u001b[0m\u001b[0m\n",
            "\u001b[0;32m/usr/local/lib/python3.10/dist-packages/pandas/_libs/index.pyx\u001b[0m in \u001b[0;36mpandas._libs.index.IndexEngine.get_loc\u001b[0;34m()\u001b[0m\n",
            "\u001b[0;32m/usr/local/lib/python3.10/dist-packages/pandas/_libs/index.pyx\u001b[0m in \u001b[0;36mpandas._libs.index.IndexEngine.get_loc\u001b[0;34m()\u001b[0m\n",
            "\u001b[0;32mpandas/_libs/hashtable_class_helper.pxi\u001b[0m in \u001b[0;36mpandas._libs.hashtable.PyObjectHashTable.get_item\u001b[0;34m()\u001b[0m\n",
            "\u001b[0;32mpandas/_libs/hashtable_class_helper.pxi\u001b[0m in \u001b[0;36mpandas._libs.hashtable.PyObjectHashTable.get_item\u001b[0;34m()\u001b[0m\n",
            "\u001b[0;31mKeyError\u001b[0m: 'full_image_path'",
            "\nThe above exception was the direct cause of the following exception:\n",
            "\u001b[0;31mKeyError\u001b[0m                                  Traceback (most recent call last)",
            "\u001b[0;32m<ipython-input-56-82f5ad9e5341>\u001b[0m in \u001b[0;36m<cell line: 4>\u001b[0;34m()\u001b[0m\n\u001b[1;32m      2\u001b[0m \u001b[0;34m\u001b[0m\u001b[0m\n\u001b[1;32m      3\u001b[0m \u001b[0;31m# Check existence of a few files\u001b[0m\u001b[0;34m\u001b[0m\u001b[0;34m\u001b[0m\u001b[0m\n\u001b[0;32m----> 4\u001b[0;31m \u001b[0mexample_paths\u001b[0m \u001b[0;34m=\u001b[0m \u001b[0mfiltered_data\u001b[0m\u001b[0;34m[\u001b[0m\u001b[0;34m'full_image_path'\u001b[0m\u001b[0;34m]\u001b[0m\u001b[0;34m.\u001b[0m\u001b[0mhead\u001b[0m\u001b[0;34m(\u001b[0m\u001b[0;34m)\u001b[0m\u001b[0;34m.\u001b[0m\u001b[0mtolist\u001b[0m\u001b[0;34m(\u001b[0m\u001b[0;34m)\u001b[0m\u001b[0;34m\u001b[0m\u001b[0;34m\u001b[0m\u001b[0m\n\u001b[0m\u001b[1;32m      5\u001b[0m \u001b[0;32mfor\u001b[0m \u001b[0mpath\u001b[0m \u001b[0;32min\u001b[0m \u001b[0mexample_paths\u001b[0m\u001b[0;34m:\u001b[0m\u001b[0;34m\u001b[0m\u001b[0;34m\u001b[0m\u001b[0m\n\u001b[1;32m      6\u001b[0m     \u001b[0mprint\u001b[0m\u001b[0;34m(\u001b[0m\u001b[0;34mf\"File exists at path {path}: {os.path.exists(path)}\"\u001b[0m\u001b[0;34m)\u001b[0m\u001b[0;34m\u001b[0m\u001b[0;34m\u001b[0m\u001b[0m\n",
            "\u001b[0;32m/usr/local/lib/python3.10/dist-packages/pandas/core/frame.py\u001b[0m in \u001b[0;36m__getitem__\u001b[0;34m(self, key)\u001b[0m\n\u001b[1;32m   3805\u001b[0m             \u001b[0;32mif\u001b[0m \u001b[0mself\u001b[0m\u001b[0;34m.\u001b[0m\u001b[0mcolumns\u001b[0m\u001b[0;34m.\u001b[0m\u001b[0mnlevels\u001b[0m \u001b[0;34m>\u001b[0m \u001b[0;36m1\u001b[0m\u001b[0;34m:\u001b[0m\u001b[0;34m\u001b[0m\u001b[0;34m\u001b[0m\u001b[0m\n\u001b[1;32m   3806\u001b[0m                 \u001b[0;32mreturn\u001b[0m \u001b[0mself\u001b[0m\u001b[0;34m.\u001b[0m\u001b[0m_getitem_multilevel\u001b[0m\u001b[0;34m(\u001b[0m\u001b[0mkey\u001b[0m\u001b[0;34m)\u001b[0m\u001b[0;34m\u001b[0m\u001b[0;34m\u001b[0m\u001b[0m\n\u001b[0;32m-> 3807\u001b[0;31m             \u001b[0mindexer\u001b[0m \u001b[0;34m=\u001b[0m \u001b[0mself\u001b[0m\u001b[0;34m.\u001b[0m\u001b[0mcolumns\u001b[0m\u001b[0;34m.\u001b[0m\u001b[0mget_loc\u001b[0m\u001b[0;34m(\u001b[0m\u001b[0mkey\u001b[0m\u001b[0;34m)\u001b[0m\u001b[0;34m\u001b[0m\u001b[0;34m\u001b[0m\u001b[0m\n\u001b[0m\u001b[1;32m   3808\u001b[0m             \u001b[0;32mif\u001b[0m \u001b[0mis_integer\u001b[0m\u001b[0;34m(\u001b[0m\u001b[0mindexer\u001b[0m\u001b[0;34m)\u001b[0m\u001b[0;34m:\u001b[0m\u001b[0;34m\u001b[0m\u001b[0;34m\u001b[0m\u001b[0m\n\u001b[1;32m   3809\u001b[0m                 \u001b[0mindexer\u001b[0m \u001b[0;34m=\u001b[0m \u001b[0;34m[\u001b[0m\u001b[0mindexer\u001b[0m\u001b[0;34m]\u001b[0m\u001b[0;34m\u001b[0m\u001b[0;34m\u001b[0m\u001b[0m\n",
            "\u001b[0;32m/usr/local/lib/python3.10/dist-packages/pandas/core/indexes/base.py\u001b[0m in \u001b[0;36mget_loc\u001b[0;34m(self, key, method, tolerance)\u001b[0m\n\u001b[1;32m   3802\u001b[0m                 \u001b[0;32mreturn\u001b[0m \u001b[0mself\u001b[0m\u001b[0;34m.\u001b[0m\u001b[0m_engine\u001b[0m\u001b[0;34m.\u001b[0m\u001b[0mget_loc\u001b[0m\u001b[0;34m(\u001b[0m\u001b[0mcasted_key\u001b[0m\u001b[0;34m)\u001b[0m\u001b[0;34m\u001b[0m\u001b[0;34m\u001b[0m\u001b[0m\n\u001b[1;32m   3803\u001b[0m             \u001b[0;32mexcept\u001b[0m \u001b[0mKeyError\u001b[0m \u001b[0;32mas\u001b[0m \u001b[0merr\u001b[0m\u001b[0;34m:\u001b[0m\u001b[0;34m\u001b[0m\u001b[0;34m\u001b[0m\u001b[0m\n\u001b[0;32m-> 3804\u001b[0;31m                 \u001b[0;32mraise\u001b[0m \u001b[0mKeyError\u001b[0m\u001b[0;34m(\u001b[0m\u001b[0mkey\u001b[0m\u001b[0;34m)\u001b[0m \u001b[0;32mfrom\u001b[0m \u001b[0merr\u001b[0m\u001b[0;34m\u001b[0m\u001b[0;34m\u001b[0m\u001b[0m\n\u001b[0m\u001b[1;32m   3805\u001b[0m             \u001b[0;32mexcept\u001b[0m \u001b[0mTypeError\u001b[0m\u001b[0;34m:\u001b[0m\u001b[0;34m\u001b[0m\u001b[0;34m\u001b[0m\u001b[0m\n\u001b[1;32m   3806\u001b[0m                 \u001b[0;31m# If we have a listlike key, _check_indexing_error will raise\u001b[0m\u001b[0;34m\u001b[0m\u001b[0;34m\u001b[0m\u001b[0m\n",
            "\u001b[0;31mKeyError\u001b[0m: 'full_image_path'"
          ]
        }
      ]
    },
    {
      "cell_type": "code",
      "source": [
        "import os\n",
        "\n",
        "# Example path to check\n",
        "example_path = '/content/drive/MyDrive/CLEF2022/PlantCLEF2022_trusted_training_images_9/9848396/0966faf193bf90fb66cbd220c5738eac5b4e5961.jpg'\n",
        "\n",
        "# Check if the file exists\n",
        "print(f\"File exists at path {example_path}: {os.path.exists(example_path)}\")\n"
      ],
      "metadata": {
        "colab": {
          "base_uri": "https://localhost:8080/"
        },
        "id": "j2DlyADclp13",
        "outputId": "93110dd1-6e8f-4386-81df-b22f7ce59304"
      },
      "execution_count": null,
      "outputs": [
        {
          "output_type": "stream",
          "name": "stdout",
          "text": [
            "File exists at path /content/drive/MyDrive/CLEF2022/PlantCLEF2022_trusted_training_images_9/9848396/0966faf193bf90fb66cbd220c5738eac5b4e5961.jpg: False\n"
          ]
        }
      ]
    },
    {
      "cell_type": "code",
      "source": [
        "import os\n",
        "\n",
        "# Example path to check\n",
        "example_path = '/content/drive/MyDrive/CLEF2022/PlantCLEF2022_trusted_training_images_9/9848396/0966faf193bf90fb66cbd220c5738eac5b4e5961.jpg'\n",
        "\n",
        "# Check if the file exists\n",
        "print(f\"File exists at path {example_path}: {os.path.exists(example_path)}\")\n"
      ],
      "metadata": {
        "colab": {
          "base_uri": "https://localhost:8080/"
        },
        "id": "NpN6-hK7l_qG",
        "outputId": "2bf9c781-39e5-489d-f687-c841f8d4815a"
      },
      "execution_count": null,
      "outputs": [
        {
          "output_type": "stream",
          "name": "stdout",
          "text": [
            "File exists at path /content/drive/MyDrive/CLEF2022/PlantCLEF2022_trusted_training_images_9/9848396/0966faf193bf90fb66cbd220c5738eac5b4e5961.jpg: False\n"
          ]
        }
      ]
    },
    {
      "cell_type": "code",
      "source": [
        "\n"
      ],
      "metadata": {
        "id": "ww8EqqDaic0g"
      },
      "execution_count": null,
      "outputs": []
    },
    {
      "cell_type": "code",
      "source": [
        "# Assuming 'model' is your trained Keras model\n",
        "model.save('/content/drive/MyDrive/CLEF2022/model', save_format='tf')\n",
        "\n",
        "# Convert the model to TensorFlow Lite\n",
        "converter = tf.lite.TFLiteConverter.from_keras_model(model)\n",
        "tflite_model = converter.convert()\n",
        "\n",
        "# Save the TFLite model to a file\n",
        "tflite_model_path = '/content/drive/MyDrive/CLEF2022/model/model.tflite'\n",
        "with open(tflite_model_path, 'wb') as f:\n",
        "    f.write(tflite_model)\n",
        "\n"
      ],
      "metadata": {
        "id": "gqjJNktSfYkO"
      },
      "execution_count": null,
      "outputs": []
    },
    {
      "cell_type": "markdown",
      "source": [
        "**Plants Dataset Training**"
      ],
      "metadata": {
        "id": "rStl9ujswbmZ"
      }
    },
    {
      "cell_type": "code",
      "source": [
        "import os\n",
        "import pandas as pd\n",
        "from tensorflow.keras.preprocessing.image import ImageDataGenerator\n",
        "from tensorflow.keras.layers import Conv2D, MaxPooling2D, Flatten, Dense\n",
        "from tensorflow.keras.models import Sequential\n",
        "import tensorflow as tf\n",
        "from tensorflow.keras import layers, models"
      ],
      "metadata": {
        "id": "byQlZRKMxpM8"
      },
      "execution_count": null,
      "outputs": []
    },
    {
      "cell_type": "code",
      "source": [
        "import pandas as pd\n",
        "\n",
        "# Assuming our CSV file is named 'PlantCLEF2022 train metadata.csv'\n",
        "csv_file_path = '/content/drive/MyDrive/CLEF2022/filtered_data.csv'\n",
        "\n",
        "# Read the CSV file\n",
        "csv_data = pd.read_csv(csv_file_path)\n",
        "\n",
        "print(csv_data)"
      ],
      "metadata": {
        "colab": {
          "base_uri": "https://localhost:8080/"
        },
        "id": "Aj5DHPSCwv4r",
        "outputId": "69446e1c-a3c5-48cc-e5f6-93f4225db52a"
      },
      "execution_count": null,
      "outputs": [
        {
          "output_type": "stream",
          "name": "stdout",
          "text": [
            "       classid                                    image_name  \\\n",
            "0      9848396  0966faf193bf90fb66cbd220c5738eac5b4e5961.jpg   \n",
            "1      9717715  078ccd025ca2c5bb5bcdf0320f3f8a19235a3272.jpg   \n",
            "2      9717715  a0371fdc1c5b116e6e58252893abdf51aa1ad61a.jpg   \n",
            "3      9717715  5d1261c34a6ce7d2ab6873057c36bc4ac389329f.jpg   \n",
            "4      9717715  91501758f741a2d7e4439946044fb0ad80639f23.jpg   \n",
            "...        ...                                           ...   \n",
            "44226  9765658  3e17daea73ff1c7ef2c5989f13a70c1dcd977e58.jpg   \n",
            "44227  9765658  d964ab3dbdcbb6d228c03fa8af25b30f19ff572a.jpg   \n",
            "44228  9765658  fb6ebbc712d6ed8ab940d1a7bf0d31f450d2313f.jpg   \n",
            "44229  9765658  e23f4f4ca37b4d8ea9da09db923815822ccbb47f.jpg   \n",
            "44230  9765658  0f34ed9d4707e7b8cd6997cb2993afe2536d663e.jpg   \n",
            "\n",
            "                                              image_path  \\\n",
            "0      9848396/0966faf193bf90fb66cbd220c5738eac5b4e59...   \n",
            "1      9717715/078ccd025ca2c5bb5bcdf0320f3f8a19235a32...   \n",
            "2      9717715/a0371fdc1c5b116e6e58252893abdf51aa1ad6...   \n",
            "3      9717715/5d1261c34a6ce7d2ab6873057c36bc4ac38932...   \n",
            "4      9717715/91501758f741a2d7e4439946044fb0ad80639f...   \n",
            "...                                                  ...   \n",
            "44226  9765658/3e17daea73ff1c7ef2c5989f13a70c1dcd977e...   \n",
            "44227  9765658/d964ab3dbdcbb6d228c03fa8af25b30f19ff57...   \n",
            "44228  9765658/fb6ebbc712d6ed8ab940d1a7bf0d31f450d231...   \n",
            "44229  9765658/e23f4f4ca37b4d8ea9da09db923815822ccbb4...   \n",
            "44230  9765658/0f34ed9d4707e7b8cd6997cb2993afe2536d66...   \n",
            "\n",
            "                                                 species          genus  \\\n",
            "0      Encephalartos middelburgensis Vorster, Robbert...  Encephalartos   \n",
            "1                            Gnetum edule Blume (Willd.)         Gnetum   \n",
            "2                            Gnetum edule Blume (Willd.)         Gnetum   \n",
            "3                            Gnetum edule Blume (Willd.)         Gnetum   \n",
            "4                            Gnetum edule Blume (Willd.)         Gnetum   \n",
            "...                                                  ...            ...   \n",
            "44226               Trigonospora tenera Mazumdar (Roxb.)   Trigonospora   \n",
            "44227               Trigonospora tenera Mazumdar (Roxb.)   Trigonospora   \n",
            "44228               Trigonospora tenera Mazumdar (Roxb.)   Trigonospora   \n",
            "44229               Trigonospora tenera Mazumdar (Roxb.)   Trigonospora   \n",
            "44230               Trigonospora tenera Mazumdar (Roxb.)   Trigonospora   \n",
            "\n",
            "                 family         order           class  \\\n",
            "0             Zamiaceae     Cycadales     Cycadopsida   \n",
            "1             Gnetaceae      Gnetales      Gnetopsida   \n",
            "2             Gnetaceae      Gnetales      Gnetopsida   \n",
            "3             Gnetaceae      Gnetales      Gnetopsida   \n",
            "4             Gnetaceae      Gnetales      Gnetopsida   \n",
            "...                 ...           ...             ...   \n",
            "44226  Thelypteridaceae  Polypodiales  Polypodiopsida   \n",
            "44227  Thelypteridaceae  Polypodiales  Polypodiopsida   \n",
            "44228  Thelypteridaceae  Polypodiales  Polypodiopsida   \n",
            "44229  Thelypteridaceae  Polypodiales  Polypodiopsida   \n",
            "44230  Thelypteridaceae  Polypodiales  Polypodiopsida   \n",
            "\n",
            "                                                  source manual_tag  \\\n",
            "0      https://www.inaturalist.org/observations/75653700        NaN   \n",
            "1      https://www.inaturalist.org/observations/27357984        NaN   \n",
            "2      https://www.inaturalist.org/observations/27357984        NaN   \n",
            "3      https://www.inaturalist.org/observations/30471350        NaN   \n",
            "4      https://www.inaturalist.org/observations/30618241        NaN   \n",
            "...                                                  ...        ...   \n",
            "44226  https://www.inaturalist.org/observations/73372427        NaN   \n",
            "44227  https://www.inaturalist.org/observations/77615016        NaN   \n",
            "44228  https://www.inaturalist.org/observations/96784735        NaN   \n",
            "44229  https://www.inaturalist.org/observations/96784746        NaN   \n",
            "44230  https://www.inaturalist.org/observations/96784746        NaN   \n",
            "\n",
            "      predicted_tag  predicted_tag_probability  \\\n",
            "0             habit                     0.9329   \n",
            "1             fruit                     0.3729   \n",
            "2             habit                     0.5909   \n",
            "3             habit                     0.6434   \n",
            "4             habit                     0.7556   \n",
            "...             ...                        ...   \n",
            "44226          leaf                     0.8120   \n",
            "44227          leaf                     0.8990   \n",
            "44228          leaf                     0.6886   \n",
            "44229          leaf                     0.8185   \n",
            "44230          leaf                     0.8513   \n",
            "\n",
            "                                            original_url  \\\n",
            "0      https://inaturalist-open-data.s3.amazonaws.com...   \n",
            "1      https://inaturalist-open-data.s3.amazonaws.com...   \n",
            "2      https://inaturalist-open-data.s3.amazonaws.com...   \n",
            "3      https://inaturalist-open-data.s3.amazonaws.com...   \n",
            "4      https://inaturalist-open-data.s3.amazonaws.com...   \n",
            "...                                                  ...   \n",
            "44226  https://inaturalist-open-data.s3.amazonaws.com...   \n",
            "44227  https://inaturalist-open-data.s3.amazonaws.com...   \n",
            "44228  https://inaturalist-open-data.s3.amazonaws.com...   \n",
            "44229  https://inaturalist-open-data.s3.amazonaws.com...   \n",
            "44230  https://inaturalist-open-data.s3.amazonaws.com...   \n",
            "\n",
            "                                              license  \\\n",
            "0      http://creativecommons.org/licenses/by-nc/4.0/   \n",
            "1      http://creativecommons.org/licenses/by-nc/4.0/   \n",
            "2      http://creativecommons.org/licenses/by-nc/4.0/   \n",
            "3      http://creativecommons.org/licenses/by-nc/4.0/   \n",
            "4      http://creativecommons.org/licenses/by-sa/4.0/   \n",
            "...                                               ...   \n",
            "44226  http://creativecommons.org/licenses/by-nc/4.0/   \n",
            "44227  http://creativecommons.org/licenses/by-nc/4.0/   \n",
            "44228  http://creativecommons.org/licenses/by-nc/4.0/   \n",
            "44229  http://creativecommons.org/licenses/by-nc/4.0/   \n",
            "44230  http://creativecommons.org/licenses/by-nc/4.0/   \n",
            "\n",
            "                                     publisher  gbif_occurrence_id aggregator  \\\n",
            "0      iNaturalist Research-grade Observations        3.109243e+09       gbif   \n",
            "1      iNaturalist Research-grade Observations        2.980786e+09       gbif   \n",
            "2      iNaturalist Research-grade Observations        2.980786e+09       gbif   \n",
            "3      iNaturalist Research-grade Observations        2.350333e+09       gbif   \n",
            "4      iNaturalist Research-grade Observations        2.579311e+09       gbif   \n",
            "...                                        ...                 ...        ...   \n",
            "44226  iNaturalist Research-grade Observations        3.090860e+09       gbif   \n",
            "44227  iNaturalist Research-grade Observations        3.112687e+09       gbif   \n",
            "44228  iNaturalist Research-grade Observations        3.384388e+09       gbif   \n",
            "44229  iNaturalist Research-grade Observations        3.384419e+09       gbif   \n",
            "44230  iNaturalist Research-grade Observations        3.384419e+09       gbif   \n",
            "\n",
            "                                dataset_key  \\\n",
            "0      50c9509d-22c7-4a22-a47d-8c48425ef4a7   \n",
            "1      50c9509d-22c7-4a22-a47d-8c48425ef4a7   \n",
            "2      50c9509d-22c7-4a22-a47d-8c48425ef4a7   \n",
            "3      50c9509d-22c7-4a22-a47d-8c48425ef4a7   \n",
            "4      50c9509d-22c7-4a22-a47d-8c48425ef4a7   \n",
            "...                                     ...   \n",
            "44226  50c9509d-22c7-4a22-a47d-8c48425ef4a7   \n",
            "44227  50c9509d-22c7-4a22-a47d-8c48425ef4a7   \n",
            "44228  50c9509d-22c7-4a22-a47d-8c48425ef4a7   \n",
            "44229  50c9509d-22c7-4a22-a47d-8c48425ef4a7   \n",
            "44230  50c9509d-22c7-4a22-a47d-8c48425ef4a7   \n",
            "\n",
            "                                        image_backup_url  \\\n",
            "0      https://lab.plantnet.org/LifeCLEF/PlantCLEF202...   \n",
            "1      https://lab.plantnet.org/LifeCLEF/PlantCLEF202...   \n",
            "2      https://lab.plantnet.org/LifeCLEF/PlantCLEF202...   \n",
            "3      https://lab.plantnet.org/LifeCLEF/PlantCLEF202...   \n",
            "4      https://lab.plantnet.org/LifeCLEF/PlantCLEF202...   \n",
            "...                                                  ...   \n",
            "44226  https://lab.plantnet.org/LifeCLEF/PlantCLEF202...   \n",
            "44227  https://lab.plantnet.org/LifeCLEF/PlantCLEF202...   \n",
            "44228  https://lab.plantnet.org/LifeCLEF/PlantCLEF202...   \n",
            "44229  https://lab.plantnet.org/LifeCLEF/PlantCLEF202...   \n",
            "44230  https://lab.plantnet.org/LifeCLEF/PlantCLEF202...   \n",
            "\n",
            "                                           absolute_path  \n",
            "0      /content/drive/MyDrive/CLEF2022/PlantCLEF2022_...  \n",
            "1      /content/drive/MyDrive/CLEF2022/PlantCLEF2022_...  \n",
            "2      /content/drive/MyDrive/CLEF2022/PlantCLEF2022_...  \n",
            "3      /content/drive/MyDrive/CLEF2022/PlantCLEF2022_...  \n",
            "4      /content/drive/MyDrive/CLEF2022/PlantCLEF2022_...  \n",
            "...                                                  ...  \n",
            "44226  /content/drive/MyDrive/CLEF2022/PlantCLEF2022_...  \n",
            "44227  /content/drive/MyDrive/CLEF2022/PlantCLEF2022_...  \n",
            "44228  /content/drive/MyDrive/CLEF2022/PlantCLEF2022_...  \n",
            "44229  /content/drive/MyDrive/CLEF2022/PlantCLEF2022_...  \n",
            "44230  /content/drive/MyDrive/CLEF2022/PlantCLEF2022_...  \n",
            "\n",
            "[44231 rows x 20 columns]\n"
          ]
        }
      ]
    },
    {
      "cell_type": "code",
      "source": [
        "# Path to the main image folder\n",
        "main_folder_path = \"/content/drive/MyDrive/CLEF2022/PlantCLEF2022_trusted_training_images_9/images\""
      ],
      "metadata": {
        "id": "XY655_6kwxyG"
      },
      "execution_count": null,
      "outputs": []
    },
    {
      "cell_type": "code",
      "source": [
        "#!ls \"/content/drive/MyDrive/CLEF2022/PlantCLEF2022_trusted_training_images_9/images\""
      ],
      "metadata": {
        "id": "Xml1Ef0_GgO8"
      },
      "execution_count": null,
      "outputs": []
    },
    {
      "cell_type": "code",
      "source": [
        "from sklearn.preprocessing import LabelEncoder\n",
        "from sklearn.model_selection import train_test_split\n",
        "import pandas as pd\n",
        "# Load filtered data\n",
        "csv_data = pd.read_csv('/content/drive/MyDrive/CLEF2022/filtered_data.csv')\n",
        "# Assuming 'class' column contains labels\n",
        "#labels = csv_data['classid']\n",
        "#labels = csv_data ['image_path']\n",
        "#labels = csv_data ['image_name']\n",
        "#labels = csv_data ['family']\n",
        "#labels = csv_data ['species']\n",
        "#print(labels)\n",
        "labels = csv_data[['classid', 'image_path', 'image_name', 'family', 'species']]\n",
        "\n",
        "labels.info()\n",
        "\n",
        " #Extract the 'species' column for label encoding\n",
        "labels = csv_data['species']\n",
        "\n",
        "# Create a LabelEncoder object\n",
        "encoder = LabelEncoder()\n",
        "\n",
        "# Apply label encoding to the 'species' column\n",
        "encoded_labels = encoder.fit_transform(labels)\n",
        "# Create a new DataFrame with encoded labels\n",
        "encoded_df = pd.DataFrame({'species': encoded_labels})\n",
        "\n",
        "# Split data into training and testing sets\n",
        "train_data, test_data, train_labels, test_labels = train_test_split(\n",
        "    csv_data['image_path'], labels, test_size=0.2, random_state=42\n",
        ")"
      ],
      "metadata": {
        "id": "kZX1vESCHYet",
        "colab": {
          "base_uri": "https://localhost:8080/"
        },
        "outputId": "1e7f76bd-d38b-4548-f2a6-b2c16bead522"
      },
      "execution_count": null,
      "outputs": [
        {
          "output_type": "stream",
          "name": "stdout",
          "text": [
            "<class 'pandas.core.frame.DataFrame'>\n",
            "RangeIndex: 44231 entries, 0 to 44230\n",
            "Data columns (total 5 columns):\n",
            " #   Column      Non-Null Count  Dtype \n",
            "---  ------      --------------  ----- \n",
            " 0   classid     44231 non-null  int64 \n",
            " 1   image_path  44231 non-null  object\n",
            " 2   image_name  44231 non-null  object\n",
            " 3   family      44231 non-null  object\n",
            " 4   species     44231 non-null  object\n",
            "dtypes: int64(1), object(4)\n",
            "memory usage: 1.7+ MB\n"
          ]
        }
      ]
    },
    {
      "cell_type": "code",
      "source": [
        "# Create image generators for training and validation sets\n",
        "train_datagen = ImageDataGenerator(\n",
        "    rescale=1./255,  # Normalize pixel values to the range 0-1\n",
        "    shear_range=0.2,  # Randomly shear images\n",
        "    zoom_range=0.2,  # Randomly zoom images\n",
        "    horizontal_flip=True  # Randomly flip images horizontally\n",
        ")\n",
        "\n",
        "val_datagen = ImageDataGenerator(\n",
        "    rescale=1./255,  # Normalize pixel values to the range 0-1\n",
        "    shear_range=0.2,  # Randomly shear images\n",
        "    zoom_range=0.2,  # Randomly zoom images\n",
        "    horizontal_flip=True  # Randomly flip images horizontally\n",
        ")\n"
      ],
      "metadata": {
        "id": "r-14of_bJG9y"
      },
      "execution_count": null,
      "outputs": []
    },
    {
      "cell_type": "code",
      "source": [
        "# Iterate over subfolders and create generators for each class\n",
        "for subfolder in os.listdir(main_folder_path):\n",
        "  subfolder_path = os.path.join(main_folder_path, subfolder)\n",
        "  #print(subfolder_path)\n",
        "\n",
        "  # Only create generators for folders containing image files\n",
        "  if os.path.isdir(subfolder_path) and any(file.endswith(('.jpg', '.jpeg', '.png')) for file in os.listdir(subfolder_path)):\n",
        "    class_name = subfolder  # Assuming subfolder names represent class labels\n",
        "    #print(class_name)\n",
        "    # Filter CSV data for the current class\n",
        "    #csv_data['classid'] = csv_data['classid'].astype(str)\n",
        "    filter_data = csv_data[csv_data['image_path'].str.contains(subfolder)]\n",
        "    #print(filter_data)\n",
        "\n",
        "     #[csv_data['classid'] == class_name]\n",
        "     #subfolder names(classes)\n",
        "   # print(f\"Class Name: {class_name}\")\n",
        "    # Set display options to show all columns and the desired number of rows\n",
        "    #pd.set_option('display.max_columns', None)\n",
        "\n",
        "    #print(filter_data.head(5).to_string())\n",
        "   # print(f\"Number of Rows: {filter_data.shape}\")\n",
        "\n",
        "    #print(filter_data.info())\n",
        "    # for column names\n",
        "    #print(filter_data.keys())\n",
        "    #for show rows\n",
        "    #print(filter_data.shape[0])\n",
        "\n",
        "\n"
      ],
      "metadata": {
        "id": "CDyTXyQiKVM2"
      },
      "execution_count": null,
      "outputs": []
    },
    {
      "cell_type": "code",
      "source": [],
      "metadata": {
        "id": "ncS3vuO1A8hA"
      },
      "execution_count": null,
      "outputs": []
    },
    {
      "source": [
        "\"classid\" in csv_data.columns"
      ],
      "cell_type": "code",
      "metadata": {
        "colab": {
          "base_uri": "https://localhost:8080/"
        },
        "id": "yf4GV1yZOk3p",
        "outputId": "62c71483-659c-4740-893b-73485f5a56e7"
      },
      "execution_count": null,
      "outputs": [
        {
          "output_type": "execute_result",
          "data": {
            "text/plain": [
              "True"
            ]
          },
          "metadata": {},
          "execution_count": 6
        }
      ]
    },
    {
      "cell_type": "code",
      "source": [
        "csv_data[\"classid\"].isnull().sum()"
      ],
      "metadata": {
        "colab": {
          "base_uri": "https://localhost:8080/"
        },
        "id": "Fy2jj6NgPpox",
        "outputId": "948ea420-cf74-4682-e43a-8e85a51af64c"
      },
      "execution_count": null,
      "outputs": [
        {
          "output_type": "execute_result",
          "data": {
            "text/plain": [
              "0"
            ]
          },
          "metadata": {},
          "execution_count": 7
        }
      ]
    },
    {
      "source": [
        "train_generator = train_datagen.flow_from_dataframe(\n",
        "  dataframe=csv_data,\n",
        "  directory=main_folder_path,\n",
        "  x_col=\"image_path\",\n",
        "  y_col=\"species\",\n",
        "  target_size=(256, 256),\n",
        "  batch_size=64,\n",
        "  class_mode=\"categorical\",\n",
        "  subset=\"training\"\n",
        ")\n",
        "\n",
        "val_generator = val_datagen.flow_from_dataframe(\n",
        "  dataframe=filter_data,\n",
        "  directory=main_folder_path,\n",
        "  x_col=\"image_path\",\n",
        "  y_col=\"species\",\n",
        "  target_size=(256, 256),\n",
        "  batch_size=64,\n",
        "  class_mode = \"categorical\",\n",
        "  subset=\"validation\",\n",
        "  validation_data=encoded_df\n",
        ")\n",
        "# Define the CNN architecture\n",
        "model = Sequential([\n",
        "    Conv2D(32, (3, 3), activation='relu', input_shape=(256, 256, 3)),\n",
        "    MaxPooling2D((2, 2)),\n",
        "    Conv2D(64, (3, 3), activation='relu'),\n",
        "    MaxPooling2D((2, 2)),\n",
        "    Flatten(),\n",
        "    Dense(128, activation='relu'),\n",
        "    Dense(3, activation='softmax')  # replace num_classes with actual number\n",
        "])\n",
        "\n",
        "# Compile the model\n",
        "model.compile(optimizer='adam', loss='sparse_categorical_crossentropy', metrics=['accuracy'])\n",
        "\n",
        "# Train the model\n",
        "#model.fit(train_generator, epochs=10)\n",
        "\n",
        "# Evaluate the model\n",
        "#model.evaluate(val_generator)\n",
        "\n",
        "\n",
        "\n",
        "\n",
        "\n"
      ],
      "cell_type": "code",
      "metadata": {
        "colab": {
          "base_uri": "https://localhost:8080/"
        },
        "id": "0aZnYDdkSAOJ",
        "outputId": "b63cc9a1-8ed1-48d3-bc6f-a41505b7f062"
      },
      "execution_count": null,
      "outputs": [
        {
          "output_type": "stream",
          "name": "stdout",
          "text": [
            "Found 44231 validated image filenames belonging to 1397 classes.\n",
            "Found 0 validated image filenames belonging to 1 classes.\n"
          ]
        }
      ]
    },
    {
      "cell_type": "code",
      "source": [],
      "metadata": {
        "id": "M0BCpteGs5NF"
      },
      "execution_count": null,
      "outputs": []
    },
    {
      "cell_type": "code",
      "source": [
        "class_data.columns"
      ],
      "metadata": {
        "colab": {
          "base_uri": "https://localhost:8080/"
        },
        "id": "arfnw4aN0E1r",
        "outputId": "3e7fafc9-64d5-400d-95ec-f99e7f17cc1e"
      },
      "execution_count": null,
      "outputs": [
        {
          "output_type": "execute_result",
          "data": {
            "text/plain": [
              "Index(['classid', 'image_name', 'image_path', 'species', 'genus', 'family',\n",
              "       'order', 'class', 'source', 'manual_tag', 'predicted_tag',\n",
              "       'predicted_tag_probability', 'original_url', 'license', 'publisher',\n",
              "       'gbif_occurrence_id', 'aggregator', 'dataset_key', 'image_backup_url',\n",
              "       'absolute_path'],\n",
              "      dtype='object')"
            ]
          },
          "metadata": {},
          "execution_count": 14
        }
      ]
    }
  ]
}