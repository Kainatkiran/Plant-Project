{
  "cells": [
    {
      "cell_type": "markdown",
      "metadata": {
        "id": "rStl9ujswbmZ"
      },
      "source": [
        "**Plants Dataset Training**"
      ]
    },
    {
      "cell_type": "code",
      "execution_count": null,
      "metadata": {
        "id": "byQlZRKMxpM8"
      },
      "outputs": [],
      "source": [
        "import os\n",
        "import pandas as pd\n",
        "from tensorflow.keras.preprocessing.image import ImageDataGenerator\n",
        "from tensorflow.keras.layers import Conv2D, MaxPooling2D, Flatten, Dense\n",
        "from tensorflow.keras.models import Sequential\n",
        "import tensorflow as tf\n",
        "from tensorflow.keras import layers, models"
      ]
    },
    {
      "cell_type": "code",
      "execution_count": null,
      "metadata": {
        "colab": {
          "base_uri": "https://localhost:8080/"
        },
        "id": "Aj5DHPSCwv4r",
        "outputId": "69446e1c-a3c5-48cc-e5f6-93f4225db52a"
      },
      "outputs": [
        {
          "name": "stdout",
          "output_type": "stream",
          "text": [
            "       classid                                    image_name  \\\n",
            "0      9848396  0966faf193bf90fb66cbd220c5738eac5b4e5961.jpg   \n",
            "1      9717715  078ccd025ca2c5bb5bcdf0320f3f8a19235a3272.jpg   \n",
            "2      9717715  a0371fdc1c5b116e6e58252893abdf51aa1ad61a.jpg   \n",
            "3      9717715  5d1261c34a6ce7d2ab6873057c36bc4ac389329f.jpg   \n",
            "4      9717715  91501758f741a2d7e4439946044fb0ad80639f23.jpg   \n",
            "...        ...                                           ...   \n",
            "44226  9765658  3e17daea73ff1c7ef2c5989f13a70c1dcd977e58.jpg   \n",
            "44227  9765658  d964ab3dbdcbb6d228c03fa8af25b30f19ff572a.jpg   \n",
            "44228  9765658  fb6ebbc712d6ed8ab940d1a7bf0d31f450d2313f.jpg   \n",
            "44229  9765658  e23f4f4ca37b4d8ea9da09db923815822ccbb47f.jpg   \n",
            "44230  9765658  0f34ed9d4707e7b8cd6997cb2993afe2536d663e.jpg   \n",
            "\n",
            "                                              image_path  \\\n",
            "0      9848396/0966faf193bf90fb66cbd220c5738eac5b4e59...   \n",
            "1      9717715/078ccd025ca2c5bb5bcdf0320f3f8a19235a32...   \n",
            "2      9717715/a0371fdc1c5b116e6e58252893abdf51aa1ad6...   \n",
            "3      9717715/5d1261c34a6ce7d2ab6873057c36bc4ac38932...   \n",
            "4      9717715/91501758f741a2d7e4439946044fb0ad80639f...   \n",
            "...                                                  ...   \n",
            "44226  9765658/3e17daea73ff1c7ef2c5989f13a70c1dcd977e...   \n",
            "44227  9765658/d964ab3dbdcbb6d228c03fa8af25b30f19ff57...   \n",
            "44228  9765658/fb6ebbc712d6ed8ab940d1a7bf0d31f450d231...   \n",
            "44229  9765658/e23f4f4ca37b4d8ea9da09db923815822ccbb4...   \n",
            "44230  9765658/0f34ed9d4707e7b8cd6997cb2993afe2536d66...   \n",
            "\n",
            "                                                 species          genus  \\\n",
            "0      Encephalartos middelburgensis Vorster, Robbert...  Encephalartos   \n",
            "1                            Gnetum edule Blume (Willd.)         Gnetum   \n",
            "2                            Gnetum edule Blume (Willd.)         Gnetum   \n",
            "3                            Gnetum edule Blume (Willd.)         Gnetum   \n",
            "4                            Gnetum edule Blume (Willd.)         Gnetum   \n",
            "...                                                  ...            ...   \n",
            "44226               Trigonospora tenera Mazumdar (Roxb.)   Trigonospora   \n",
            "44227               Trigonospora tenera Mazumdar (Roxb.)   Trigonospora   \n",
            "44228               Trigonospora tenera Mazumdar (Roxb.)   Trigonospora   \n",
            "44229               Trigonospora tenera Mazumdar (Roxb.)   Trigonospora   \n",
            "44230               Trigonospora tenera Mazumdar (Roxb.)   Trigonospora   \n",
            "\n",
            "                 family         order           class  \\\n",
            "0             Zamiaceae     Cycadales     Cycadopsida   \n",
            "1             Gnetaceae      Gnetales      Gnetopsida   \n",
            "2             Gnetaceae      Gnetales      Gnetopsida   \n",
            "3             Gnetaceae      Gnetales      Gnetopsida   \n",
            "4             Gnetaceae      Gnetales      Gnetopsida   \n",
            "...                 ...           ...             ...   \n",
            "44226  Thelypteridaceae  Polypodiales  Polypodiopsida   \n",
            "44227  Thelypteridaceae  Polypodiales  Polypodiopsida   \n",
            "44228  Thelypteridaceae  Polypodiales  Polypodiopsida   \n",
            "44229  Thelypteridaceae  Polypodiales  Polypodiopsida   \n",
            "44230  Thelypteridaceae  Polypodiales  Polypodiopsida   \n",
            "\n",
            "                                                  source manual_tag  \\\n",
            "0      https://www.inaturalist.org/observations/75653700        NaN   \n",
            "1      https://www.inaturalist.org/observations/27357984        NaN   \n",
            "2      https://www.inaturalist.org/observations/27357984        NaN   \n",
            "3      https://www.inaturalist.org/observations/30471350        NaN   \n",
            "4      https://www.inaturalist.org/observations/30618241        NaN   \n",
            "...                                                  ...        ...   \n",
            "44226  https://www.inaturalist.org/observations/73372427        NaN   \n",
            "44227  https://www.inaturalist.org/observations/77615016        NaN   \n",
            "44228  https://www.inaturalist.org/observations/96784735        NaN   \n",
            "44229  https://www.inaturalist.org/observations/96784746        NaN   \n",
            "44230  https://www.inaturalist.org/observations/96784746        NaN   \n",
            "\n",
            "      predicted_tag  predicted_tag_probability  \\\n",
            "0             habit                     0.9329   \n",
            "1             fruit                     0.3729   \n",
            "2             habit                     0.5909   \n",
            "3             habit                     0.6434   \n",
            "4             habit                     0.7556   \n",
            "...             ...                        ...   \n",
            "44226          leaf                     0.8120   \n",
            "44227          leaf                     0.8990   \n",
            "44228          leaf                     0.6886   \n",
            "44229          leaf                     0.8185   \n",
            "44230          leaf                     0.8513   \n",
            "\n",
            "                                            original_url  \\\n",
            "0      https://inaturalist-open-data.s3.amazonaws.com...   \n",
            "1      https://inaturalist-open-data.s3.amazonaws.com...   \n",
            "2      https://inaturalist-open-data.s3.amazonaws.com...   \n",
            "3      https://inaturalist-open-data.s3.amazonaws.com...   \n",
            "4      https://inaturalist-open-data.s3.amazonaws.com...   \n",
            "...                                                  ...   \n",
            "44226  https://inaturalist-open-data.s3.amazonaws.com...   \n",
            "44227  https://inaturalist-open-data.s3.amazonaws.com...   \n",
            "44228  https://inaturalist-open-data.s3.amazonaws.com...   \n",
            "44229  https://inaturalist-open-data.s3.amazonaws.com...   \n",
            "44230  https://inaturalist-open-data.s3.amazonaws.com...   \n",
            "\n",
            "                                              license  \\\n",
            "0      http://creativecommons.org/licenses/by-nc/4.0/   \n",
            "1      http://creativecommons.org/licenses/by-nc/4.0/   \n",
            "2      http://creativecommons.org/licenses/by-nc/4.0/   \n",
            "3      http://creativecommons.org/licenses/by-nc/4.0/   \n",
            "4      http://creativecommons.org/licenses/by-sa/4.0/   \n",
            "...                                               ...   \n",
            "44226  http://creativecommons.org/licenses/by-nc/4.0/   \n",
            "44227  http://creativecommons.org/licenses/by-nc/4.0/   \n",
            "44228  http://creativecommons.org/licenses/by-nc/4.0/   \n",
            "44229  http://creativecommons.org/licenses/by-nc/4.0/   \n",
            "44230  http://creativecommons.org/licenses/by-nc/4.0/   \n",
            "\n",
            "                                     publisher  gbif_occurrence_id aggregator  \\\n",
            "0      iNaturalist Research-grade Observations        3.109243e+09       gbif   \n",
            "1      iNaturalist Research-grade Observations        2.980786e+09       gbif   \n",
            "2      iNaturalist Research-grade Observations        2.980786e+09       gbif   \n",
            "3      iNaturalist Research-grade Observations        2.350333e+09       gbif   \n",
            "4      iNaturalist Research-grade Observations        2.579311e+09       gbif   \n",
            "...                                        ...                 ...        ...   \n",
            "44226  iNaturalist Research-grade Observations        3.090860e+09       gbif   \n",
            "44227  iNaturalist Research-grade Observations        3.112687e+09       gbif   \n",
            "44228  iNaturalist Research-grade Observations        3.384388e+09       gbif   \n",
            "44229  iNaturalist Research-grade Observations        3.384419e+09       gbif   \n",
            "44230  iNaturalist Research-grade Observations        3.384419e+09       gbif   \n",
            "\n",
            "                                dataset_key  \\\n",
            "0      50c9509d-22c7-4a22-a47d-8c48425ef4a7   \n",
            "1      50c9509d-22c7-4a22-a47d-8c48425ef4a7   \n",
            "2      50c9509d-22c7-4a22-a47d-8c48425ef4a7   \n",
            "3      50c9509d-22c7-4a22-a47d-8c48425ef4a7   \n",
            "4      50c9509d-22c7-4a22-a47d-8c48425ef4a7   \n",
            "...                                     ...   \n",
            "44226  50c9509d-22c7-4a22-a47d-8c48425ef4a7   \n",
            "44227  50c9509d-22c7-4a22-a47d-8c48425ef4a7   \n",
            "44228  50c9509d-22c7-4a22-a47d-8c48425ef4a7   \n",
            "44229  50c9509d-22c7-4a22-a47d-8c48425ef4a7   \n",
            "44230  50c9509d-22c7-4a22-a47d-8c48425ef4a7   \n",
            "\n",
            "                                        image_backup_url  \\\n",
            "0      https://lab.plantnet.org/LifeCLEF/PlantCLEF202...   \n",
            "1      https://lab.plantnet.org/LifeCLEF/PlantCLEF202...   \n",
            "2      https://lab.plantnet.org/LifeCLEF/PlantCLEF202...   \n",
            "3      https://lab.plantnet.org/LifeCLEF/PlantCLEF202...   \n",
            "4      https://lab.plantnet.org/LifeCLEF/PlantCLEF202...   \n",
            "...                                                  ...   \n",
            "44226  https://lab.plantnet.org/LifeCLEF/PlantCLEF202...   \n",
            "44227  https://lab.plantnet.org/LifeCLEF/PlantCLEF202...   \n",
            "44228  https://lab.plantnet.org/LifeCLEF/PlantCLEF202...   \n",
            "44229  https://lab.plantnet.org/LifeCLEF/PlantCLEF202...   \n",
            "44230  https://lab.plantnet.org/LifeCLEF/PlantCLEF202...   \n",
            "\n",
            "                                           absolute_path  \n",
            "0      /content/drive/MyDrive/CLEF2022/PlantCLEF2022_...  \n",
            "1      /content/drive/MyDrive/CLEF2022/PlantCLEF2022_...  \n",
            "2      /content/drive/MyDrive/CLEF2022/PlantCLEF2022_...  \n",
            "3      /content/drive/MyDrive/CLEF2022/PlantCLEF2022_...  \n",
            "4      /content/drive/MyDrive/CLEF2022/PlantCLEF2022_...  \n",
            "...                                                  ...  \n",
            "44226  /content/drive/MyDrive/CLEF2022/PlantCLEF2022_...  \n",
            "44227  /content/drive/MyDrive/CLEF2022/PlantCLEF2022_...  \n",
            "44228  /content/drive/MyDrive/CLEF2022/PlantCLEF2022_...  \n",
            "44229  /content/drive/MyDrive/CLEF2022/PlantCLEF2022_...  \n",
            "44230  /content/drive/MyDrive/CLEF2022/PlantCLEF2022_...  \n",
            "\n",
            "[44231 rows x 20 columns]\n"
          ]
        }
      ],
      "source": [
        "import pandas as pd\n",
        "\n",
        "# Assuming our CSV file is named 'PlantCLEF2022 train metadata.csv'\n",
        "csv_file_path = '/content/drive/MyDrive/CLEF2022/filtered_data.csv'\n",
        "\n",
        "# Read the CSV file\n",
        "csv_data = pd.read_csv(csv_file_path)\n",
        "\n",
        "print(csv_data)"
      ]
    },
    {
      "cell_type": "code",
      "execution_count": null,
      "metadata": {
        "id": "XY655_6kwxyG"
      },
      "outputs": [],
      "source": [
        "# Path to the main image folder\n",
        "main_folder_path = \"/content/drive/MyDrive/CLEF2022/PlantCLEF2022_trusted_training_images_9/images\""
      ]
    },
    {
      "cell_type": "code",
      "execution_count": null,
      "metadata": {
        "id": "Xml1Ef0_GgO8"
      },
      "outputs": [],
      "source": [
        "#!ls \"/content/drive/MyDrive/CLEF2022/PlantCLEF2022_trusted_training_images_9/images\""
      ]
    },
    {
      "cell_type": "code",
      "execution_count": null,
      "metadata": {
        "colab": {
          "base_uri": "https://localhost:8080/"
        },
        "id": "kZX1vESCHYet",
        "outputId": "1e7f76bd-d38b-4548-f2a6-b2c16bead522"
      },
      "outputs": [
        {
          "name": "stdout",
          "output_type": "stream",
          "text": [
            "<class 'pandas.core.frame.DataFrame'>\n",
            "RangeIndex: 44231 entries, 0 to 44230\n",
            "Data columns (total 5 columns):\n",
            " #   Column      Non-Null Count  Dtype \n",
            "---  ------      --------------  ----- \n",
            " 0   classid     44231 non-null  int64 \n",
            " 1   image_path  44231 non-null  object\n",
            " 2   image_name  44231 non-null  object\n",
            " 3   family      44231 non-null  object\n",
            " 4   species     44231 non-null  object\n",
            "dtypes: int64(1), object(4)\n",
            "memory usage: 1.7+ MB\n"
          ]
        }
      ],
      "source": [
        "from sklearn.preprocessing import LabelEncoder\n",
        "from sklearn.model_selection import train_test_split\n",
        "import pandas as pd\n",
        "# Load filtered data\n",
        "csv_data = pd.read_csv('/content/drive/MyDrive/CLEF2022/filtered_data.csv')\n",
        "# Assuming 'class' column contains labels\n",
        "#labels = csv_data['classid']\n",
        "#labels = csv_data ['image_path']\n",
        "#labels = csv_data ['image_name']\n",
        "#labels = csv_data ['family']\n",
        "#labels = csv_data ['species']\n",
        "#print(labels)\n",
        "labels = csv_data[['classid', 'image_path', 'image_name', 'family', 'species']]\n",
        "\n",
        "labels.info()\n",
        "\n",
        " #Extract the 'species' column for label encoding\n",
        "labels = csv_data['species']\n",
        "\n",
        "# Create a LabelEncoder object\n",
        "encoder = LabelEncoder()\n",
        "\n",
        "# Apply label encoding to the 'species' column\n",
        "encoded_labels = encoder.fit_transform(labels)\n",
        "# Create a new DataFrame with encoded labels\n",
        "encoded_df = pd.DataFrame({'species': encoded_labels})\n",
        "\n",
        "# Split data into training and testing sets\n",
        "train_data, test_data, train_labels, test_labels = train_test_split(\n",
        "    csv_data['image_path'], labels, test_size=0.2, random_state=42\n",
        ")"
      ]
    },
    {
      "cell_type": "code",
      "execution_count": null,
      "metadata": {
        "id": "r-14of_bJG9y"
      },
      "outputs": [],
      "source": [
        "# Create image generators for training and validation sets\n",
        "train_datagen = ImageDataGenerator(\n",
        "    rescale=1./255,  # Normalize pixel values to the range 0-1\n",
        "    shear_range=0.2,  # Randomly shear images\n",
        "    zoom_range=0.2,  # Randomly zoom images\n",
        "    horizontal_flip=True  # Randomly flip images horizontally\n",
        ")\n",
        "\n",
        "val_datagen = ImageDataGenerator(\n",
        "    rescale=1./255,  # Normalize pixel values to the range 0-1\n",
        "    shear_range=0.2,  # Randomly shear images\n",
        "    zoom_range=0.2,  # Randomly zoom images\n",
        "    horizontal_flip=True  # Randomly flip images horizontally\n",
        ")\n"
      ]
    },
    {
      "cell_type": "code",
      "execution_count": null,
      "metadata": {
        "id": "CDyTXyQiKVM2"
      },
      "outputs": [],
      "source": [
        "# Iterate over subfolders and create generators for each class\n",
        "for subfolder in os.listdir(main_folder_path):\n",
        "  subfolder_path = os.path.join(main_folder_path, subfolder)\n",
        "  #print(subfolder_path)\n",
        "\n",
        "  # Only create generators for folders containing image files\n",
        "  if os.path.isdir(subfolder_path) and any(file.endswith(('.jpg', '.jpeg', '.png')) for file in os.listdir(subfolder_path)):\n",
        "    class_name = subfolder  # Assuming subfolder names represent class labels\n",
        "    #print(class_name)\n",
        "    # Filter CSV data for the current class\n",
        "    #csv_data['classid'] = csv_data['classid'].astype(str)\n",
        "    filter_data = csv_data[csv_data['image_path'].str.contains(subfolder)]\n",
        "    #print(filter_data)\n",
        "\n",
        "     #[csv_data['classid'] == class_name]\n",
        "     #subfolder names(classes)\n",
        "   # print(f\"Class Name: {class_name}\")\n",
        "    # Set display options to show all columns and the desired number of rows\n",
        "    #pd.set_option('display.max_columns', None)\n",
        "\n",
        "    #print(filter_data.head(5).to_string())\n",
        "   # print(f\"Number of Rows: {filter_data.shape}\")\n",
        "\n",
        "    #print(filter_data.info())\n",
        "    # for column names\n",
        "    #print(filter_data.keys())\n",
        "    #for show rows\n",
        "    #print(filter_data.shape[0])\n",
        "\n",
        "\n"
      ]
    },
    {
      "cell_type": "code",
      "execution_count": null,
      "metadata": {
        "id": "ncS3vuO1A8hA"
      },
      "outputs": [],
      "source": []
    },
    {
      "cell_type": "code",
      "execution_count": null,
      "metadata": {
        "colab": {
          "base_uri": "https://localhost:8080/"
        },
        "id": "yf4GV1yZOk3p",
        "outputId": "62c71483-659c-4740-893b-73485f5a56e7"
      },
      "outputs": [
        {
          "data": {
            "text/plain": [
              "True"
            ]
          },
          "execution_count": 6,
          "metadata": {},
          "output_type": "execute_result"
        }
      ],
      "source": [
        "\"classid\" in csv_data.columns"
      ]
    },
    {
      "cell_type": "code",
      "execution_count": null,
      "metadata": {
        "colab": {
          "base_uri": "https://localhost:8080/"
        },
        "id": "Fy2jj6NgPpox",
        "outputId": "948ea420-cf74-4682-e43a-8e85a51af64c"
      },
      "outputs": [
        {
          "data": {
            "text/plain": [
              "0"
            ]
          },
          "execution_count": 7,
          "metadata": {},
          "output_type": "execute_result"
        }
      ],
      "source": [
        "csv_data[\"classid\"].isnull().sum()"
      ]
    },
    {
      "cell_type": "code",
      "execution_count": null,
      "metadata": {
        "colab": {
          "base_uri": "https://localhost:8080/"
        },
        "id": "0aZnYDdkSAOJ",
        "outputId": "b63cc9a1-8ed1-48d3-bc6f-a41505b7f062"
      },
      "outputs": [
        {
          "name": "stdout",
          "output_type": "stream",
          "text": [
            "Found 44231 validated image filenames belonging to 1397 classes.\n",
            "Found 0 validated image filenames belonging to 1 classes.\n"
          ]
        }
      ],
      "source": [
        "train_generator = train_datagen.flow_from_dataframe(\n",
        "  dataframe=csv_data,\n",
        "  directory=main_folder_path,\n",
        "  x_col=\"image_path\",\n",
        "  y_col=\"species\",\n",
        "  target_size=(256, 256),\n",
        "  batch_size=64,\n",
        "  class_mode=\"categorical\",\n",
        "  subset=\"training\"\n",
        ")\n",
        "\n",
        "val_generator = val_datagen.flow_from_dataframe(\n",
        "  dataframe=filter_data,\n",
        "  directory=main_folder_path,\n",
        "  x_col=\"image_path\",\n",
        "  y_col=\"species\",\n",
        "  target_size=(256, 256),\n",
        "  batch_size=64,\n",
        "  class_mode = \"categorical\",\n",
        "  subset=\"validation\",\n",
        "  validation_data=encoded_df\n",
        ")\n",
        "# Define the CNN architecture\n",
        "model = Sequential([\n",
        "    Conv2D(32, (3, 3), activation='relu', input_shape=(256, 256, 3)),\n",
        "    MaxPooling2D((2, 2)),\n",
        "    Conv2D(64, (3, 3), activation='relu'),\n",
        "    MaxPooling2D((2, 2)),\n",
        "    Flatten(),\n",
        "    Dense(128, activation='relu'),\n",
        "    Dense(3, activation='softmax')  # replace num_classes with actual number\n",
        "])\n",
        "\n",
        "# Compile the model\n",
        "model.compile(optimizer='adam', loss='sparse_categorical_crossentropy', metrics=['accuracy'])\n",
        "\n",
        "# Train the model\n",
        "#model.fit(train_generator, epochs=10)\n",
        "\n",
        "# Evaluate the model\n",
        "#model.evaluate(val_generator)\n",
        "\n",
        "\n",
        "\n",
        "\n",
        "\n"
      ]
    },
    {
      "cell_type": "code",
      "execution_count": null,
      "metadata": {
        "id": "M0BCpteGs5NF"
      },
      "outputs": [],
      "source": []
    },
    {
      "cell_type": "code",
      "execution_count": null,
      "metadata": {
        "colab": {
          "base_uri": "https://localhost:8080/"
        },
        "id": "arfnw4aN0E1r",
        "outputId": "3e7fafc9-64d5-400d-95ec-f99e7f17cc1e"
      },
      "outputs": [
        {
          "data": {
            "text/plain": [
              "Index(['classid', 'image_name', 'image_path', 'species', 'genus', 'family',\n",
              "       'order', 'class', 'source', 'manual_tag', 'predicted_tag',\n",
              "       'predicted_tag_probability', 'original_url', 'license', 'publisher',\n",
              "       'gbif_occurrence_id', 'aggregator', 'dataset_key', 'image_backup_url',\n",
              "       'absolute_path'],\n",
              "      dtype='object')"
            ]
          },
          "execution_count": 14,
          "metadata": {},
          "output_type": "execute_result"
        }
      ],
      "source": [
        "class_data.columns"
      ]
    }
  ],
  "metadata": {
    "colab": {
      "provenance": []
    },
    "kernelspec": {
      "display_name": "Python 3",
      "name": "python3"
    },
    "language_info": {
      "name": "python"
    }
  },
  "nbformat": 4,
  "nbformat_minor": 0
}
